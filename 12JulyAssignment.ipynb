{
 "cells": [
  {
   "cell_type": "code",
   "execution_count": null,
   "id": "37998722",
   "metadata": {},
   "outputs": [],
   "source": [
    "#1. Write an SQL query to retrieve the names and email addresses of all employees from a table named \"Employees\".\n",
    "SELECT name, email\n",
    "FROM Employees;"
   ]
  },
  {
   "cell_type": "code",
   "execution_count": null,
   "id": "0a7b12f6",
   "metadata": {},
   "outputs": [],
   "source": [
    "#2. Write an SQL query to filter records from a table named \"Customers\" where the \"City\" column is 'New York'.\n",
    "SELECT *\n",
    "FROM Customers\n",
    "WHERE City = 'New York';"
   ]
  },
  {
   "cell_type": "code",
   "execution_count": null,
   "id": "c708d7f2",
   "metadata": {},
   "outputs": [],
   "source": [
    "#3. Write an SQL query to sort records in descending order based on the \"DateOfBirth\" column in a table named \"Users\".\n",
    "SELECT *\n",
    "FROM Users\n",
    "ORDER BY DateOfBirth DESC;"
   ]
  },
  {
   "cell_type": "code",
   "execution_count": null,
   "id": "ee01c2f7",
   "metadata": {},
   "outputs": [],
   "source": [
    "#4. Write an SQL query to sort records in ascending order based on the \"RegistrationDate\" column in a table named \"Users\".\n",
    "SELECT *\n",
    "FROM Users\n",
    "ORDER BY RegistrationDate ASC;"
   ]
  },
  {
   "cell_type": "code",
   "execution_count": null,
   "id": "f743d5f9",
   "metadata": {},
   "outputs": [],
   "source": [
    "#5. Write an SQL query to find the employee with the highest salary from a table named \"Employees\" and display their name, position, and salary.\n",
    "SELECT Name, Position, Salary\n",
    "FROM Employees\n",
    "ORDER BY Salary DESC\n",
    "LIMIT 1;"
   ]
  },
  {
   "cell_type": "code",
   "execution_count": null,
   "id": "bbe34528",
   "metadata": {},
   "outputs": [],
   "source": [
    "#6. Write an SQL query to retrieve records from a table named \"Customers\" where the \"Phone\" column matches the pattern '+1-XXX-XXX-XXXX'.\n",
    "SELECT *\n",
    "FROM Customers\n",
    "WHERE Phone LIKE '+1-___-___-____';"
   ]
  },
  {
   "cell_type": "code",
   "execution_count": null,
   "id": "f163e011",
   "metadata": {},
   "outputs": [],
   "source": [
    "#7. Write an SQL query to retrieve the top 5 customers with the highest total purchase amount from a table named \"Orders\" and display their names and total purchase amounts.\n",
    "SELECT CustomerName, SUM(PurchaseAmount) AS TotalPurchaseAmount\n",
    "FROM Orders\n",
    "GROUP BY CustomerName\n",
    "ORDER BY TotalPurchaseAmount DESC\n",
    "LIMIT 5;"
   ]
  },
  {
   "cell_type": "code",
   "execution_count": null,
   "id": "b07514f1",
   "metadata": {},
   "outputs": [],
   "source": [
    "#8. Write an SQL query to calculate the percentage of sales for each product category in a table named \"Sales\" and display the category name, total sales amount, and the percentage of total sales.\n",
    "SELECT\n",
    "    CategoryName,\n",
    "    SUM(SalesAmount) AS TotalSalesAmount,\n",
    "    SUM(SalesAmount) / (SELECT SUM(SalesAmount) FROM Sales) * 100 AS PercentageOfTotalSales\n",
    "FROM\n",
    "    Sales\n",
    "GROUP BY\n",
    "    CategoryName\n",
    "ORDER BY\n",
    "    TotalSalesAmount DESC;"
   ]
  },
  {
   "cell_type": "code",
   "execution_count": null,
   "id": "bfb013a2",
   "metadata": {},
   "outputs": [],
   "source": [
    " #9. Write an SQL query to find the customers who have made the highest total purchases across all years from a table named \"Orders\" and display their names, email addresses, and the total purchase amount.\n",
    "    SELECT CustomerName, EmailAddress, SUM(PurchaseAmount) AS TotalPurchaseAmount\n",
    "FROM Orders\n",
    "GROUP BY CustomerName, EmailAddress\n",
    "ORDER BY TotalPurchaseAmount DESC\n",
    "LIMIT 1;"
   ]
  }
 ],
 "metadata": {
  "kernelspec": {
   "display_name": "Python 3 (ipykernel)",
   "language": "python",
   "name": "python3"
  },
  "language_info": {
   "codemirror_mode": {
    "name": "ipython",
    "version": 3
   },
   "file_extension": ".py",
   "mimetype": "text/x-python",
   "name": "python",
   "nbconvert_exporter": "python",
   "pygments_lexer": "ipython3",
   "version": "3.9.13"
  }
 },
 "nbformat": 4,
 "nbformat_minor": 5
}
