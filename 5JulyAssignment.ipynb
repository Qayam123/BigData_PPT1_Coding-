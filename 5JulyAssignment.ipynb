{
 "cells": [
  {
   "cell_type": "code",
   "execution_count": 3,
   "id": "8dfb59bf",
   "metadata": {},
   "outputs": [
    {
     "name": "stdout",
     "output_type": "stream",
     "text": [
      "Enter First Stringqwerty yu\n",
      "Enter Second stringuytqwer\n",
      "The two string are not Anagrams\n"
     ]
    }
   ],
   "source": [
    "\n",
    "def checkanagram(str1,str2):\n",
    "    str1 = str1.replace(\" \", \"\").lower()\n",
    "    str2 = str2.replace(\" \", \"\").lower()\n",
    "    if sorted(str1)==sorted(str2):\n",
    "        print(\"The two string are anagrams\")\n",
    "    else:\n",
    "        print(\"The two string are not Anagrams\")\n",
    "#Driver code\n",
    "str1=input(\"Enter First String\")\n",
    "str2=input(\"Enter Second string\")\n",
    "#Function Calling\n",
    "checkanagram(str1,str2)"
   ]
  },
  {
   "cell_type": "code",
   "execution_count": 8,
   "id": "0e811d5b",
   "metadata": {},
   "outputs": [
    {
     "data": {
      "text/plain": [
       "(100, 10)"
      ]
     },
     "execution_count": 8,
     "metadata": {},
     "output_type": "execute_result"
    }
   ],
   "source": [
    "\n",
    "def find_max_minvalues(my_dictionary):\n",
    "    if not my_dictionary:\n",
    "        print(\"The dictionary is empty.\")\n",
    "        return None, None\n",
    "\n",
    "    max_value = max(my_dictionary.values())\n",
    "    min_value = min(my_dictionary.values())\n",
    "\n",
    "    return max_value, min_value\n",
    "\n",
    "\n",
    "# Driver Code\n",
    "my_dict = {\"Army\": 50, \"Navy\": 100, \"AirForce\": 78, \"CoastGuard\": 87, \"SecretService\":10}\n",
    "#Function calling\n",
    "find_max_minvalues(my_dict)"
   ]
  },
  {
   "cell_type": "code",
   "execution_count": 9,
   "id": "a46ddc25",
   "metadata": {},
   "outputs": [
    {
     "name": "stdout",
     "output_type": "stream",
     "text": [
      "The average of given list is 72.6\n"
     ]
    }
   ],
   "source": [
    "#Write a Python program to find the average of a list of numbers.\n",
    "def Average_list(sample_list):\n",
    "    total=0\n",
    "    for i in sample_list:\n",
    "        total+=i\n",
    "    print(f\"The average of given list is {total/len(sample_list)}\")\n",
    "#Driver Code\n",
    "my_list=[45,76,98,79,65]\n",
    "#Function calling\n",
    "Average_list(my_list)"
   ]
  },
  {
   "cell_type": "code",
   "execution_count": 10,
   "id": "f63eca91",
   "metadata": {},
   "outputs": [
    {
     "name": "stdout",
     "output_type": "stream",
     "text": [
      "Enter a stringMy Name is qayam\n"
     ]
    },
    {
     "data": {
      "text/plain": [
       "'My Nm s qym'"
      ]
     },
     "execution_count": 10,
     "metadata": {},
     "output_type": "execute_result"
    }
   ],
   "source": [
    "#Write a Python program to remove all vowels from a string.\n",
    "def Remove_Vowels(sample_string):\n",
    "    novowelstring=\"\"\n",
    "    vowels=\"AEIOUaeiou\"\n",
    "    for char in sample_string:\n",
    "        if char not in vowels:\n",
    "            novowelstring+=char\n",
    "    return novowelstring\n",
    "#Driver Code\n",
    "my_string=input(\"Enter a string\")\n",
    "#Functional Calling\n",
    "Remove_Vowels(my_string)"
   ]
  },
  {
   "cell_type": "code",
   "execution_count": 1,
   "id": "63dd4858",
   "metadata": {},
   "outputs": [
    {
     "name": "stdout",
     "output_type": "stream",
     "text": [
      "Enter the number for which you wish to find the Factorial7\n"
     ]
    },
    {
     "data": {
      "text/plain": [
       "5040"
      ]
     },
     "execution_count": 1,
     "metadata": {},
     "output_type": "execute_result"
    }
   ],
   "source": [
    "#Write a Python function to calculate the factorial of a number using recursion.\n",
    "def findfactorial(my_num):\n",
    "    if my_num ==0 or my_num==1:\n",
    "        return 1\n",
    "    else:\n",
    "        return my_num*findfactorial(my_num-1) \n",
    "\n",
    "#DriverCode\n",
    "num=int(input(\"Enter the number for which you wish to find the Factorial\"))\n",
    "#Function Calling\n",
    "findfactorial(num)"
   ]
  },
  {
   "cell_type": "code",
   "execution_count": 4,
   "id": "e5889bfb",
   "metadata": {},
   "outputs": [
    {
     "name": "stdout",
     "output_type": "stream",
     "text": [
      "List 1: [75, 93, 98, 54, 22, 47, 61, 56]\n",
      "List 2: [19, 61, 70, 82, 76]\n",
      "Merged and Sorted List: [19, 22, 47, 54, 56, 61, 61, 70, 75, 76, 82, 93, 98]\n"
     ]
    }
   ],
   "source": [
    "#Write a Python program to merge two unsorted lists into a single sorted list using the merge sort algorithm\n",
    "def merge_sort(arr):\n",
    "    if len(arr) <= 1:\n",
    "        return arr\n",
    "\n",
    "    mid = len(arr) // 2\n",
    "    left_half = arr[:mid]\n",
    "    right_half = arr[mid:]\n",
    "\n",
    "    left_half = merge_sort(left_half)\n",
    "    right_half = merge_sort(right_half)\n",
    "\n",
    "    return merge(left_half, right_half)\n",
    "\n",
    "def merge(left, right):\n",
    "    merged_list = []\n",
    "    left_index, right_index = 0, 0\n",
    "\n",
    "    while left_index < len(left) and right_index < len(right):\n",
    "        if left[left_index] < right[right_index]:\n",
    "            merged_list.append(left[left_index])\n",
    "            left_index += 1\n",
    "        else:\n",
    "            merged_list.append(right[right_index])\n",
    "            right_index += 1\n",
    "\n",
    "    while left_index < len(left):\n",
    "        merged_list.append(left[left_index])\n",
    "        left_index += 1\n",
    "\n",
    "    while right_index < len(right):\n",
    "        merged_list.append(right[right_index])\n",
    "        right_index += 1\n",
    "\n",
    "    return merged_list\n",
    "\n",
    "#Driver Code\n",
    "list1 = [75, 93, 98, 54, 22, 47, 61, 56]\n",
    "list2 = [19, 61, 70, 82, 76]\n",
    "#Function Calling\n",
    "merged_list = merge_sort(list1 + list2)\n",
    "\n",
    "print(\"List 1:\", list1)\n",
    "print(\"List 2:\", list2)\n",
    "print(\"Merged and Sorted List:\", merged_list)\n"
   ]
  },
  {
   "cell_type": "code",
   "execution_count": 6,
   "id": "d9cbec82",
   "metadata": {},
   "outputs": [
    {
     "name": "stdout",
     "output_type": "stream",
     "text": [
      "Enter the first number: 56\n",
      "Enter the second number: 65\n",
      "The GCD of 56 and 65 is 1.\n"
     ]
    }
   ],
   "source": [
    "#Write a Python program to find the GCD (Greatest Common Divisor) of two input numbers\n",
    "\n",
    "def gcd(x, y):\n",
    "    while y != 0:\n",
    "        x, y = y, x % y\n",
    "    return x\n",
    "\n",
    "#Driver Code\n",
    "num1 = int(input(\"Enter the first number: \"))\n",
    "num2 = int(input(\"Enter the second number: \"))\n",
    "#Function Calling\n",
    "result = gcd(num1, num2)\n",
    "print(f\"The GCD of {num1} and {num2} is {result}.\")\n"
   ]
  },
  {
   "cell_type": "code",
   "execution_count": 9,
   "id": "d0971ef0",
   "metadata": {},
   "outputs": [
    {
     "data": {
      "text/plain": [
       "89"
      ]
     },
     "execution_count": 9,
     "metadata": {},
     "output_type": "execute_result"
    }
   ],
   "source": [
    "#Write a Python program to find the second-largest element in a list.\n",
    "def SecondLargestNum(sample_list):\n",
    "    sorted_list=sorted(sample_list)\n",
    "    result=sorted_list[-2]\n",
    "    return result\n",
    "#Driver Code\n",
    "my_list=[56,87,89,98,45,76,56,43,23,12]\n",
    "#Function Calling\n",
    "SecondLargestNum(my_list)"
   ]
  },
  {
   "cell_type": "code",
   "execution_count": null,
   "id": "c0367ce4",
   "metadata": {},
   "outputs": [],
   "source": [
    "#Write a Python program to find the longest common subsequence between two strings using dynamic programming.\n",
    "def longest_common_subsequence(str1, str2):\n",
    "    m, n = len(str1), len(str2)\n",
    "\n",
    "    # Create a 2D table to store the LCS lengths\n",
    "    dp = [[0] * (n + 1) for _ in range(m + 1)]\n",
    "\n",
    "    # Fill the table using bottom-up dynamic programming\n",
    "    for i in range(1, m + 1):\n",
    "        for j in range(1, n + 1):\n",
    "            if str1[i - 1] == str2[j - 1]:\n",
    "                dp[i][j] = dp[i - 1][j - 1] + 1\n",
    "            else:\n",
    "                dp[i][j] = max(dp[i - 1][j], dp[i][j - 1])\n",
    "\n",
    "    # Backtrack to find the LCS\n",
    "    lcs = \"\"\n",
    "    i, j = m, n\n",
    "    while i > 0 and j > 0:\n",
    "        if str1[i - 1] == str2[j - 1]:\n",
    "            lcs = str1[i - 1] + lcs\n",
    "            i -= 1\n",
    "            j -= 1\n",
    "        elif dp[i - 1][j] > dp[i][j - 1]:\n",
    "            i -= 1\n",
    "        else:\n",
    "            j -= 1\n",
    "\n",
    "    return lcs\n",
    "\n",
    "#Driver Code\n",
    "str1 = input(\"Enter the first string: \")\n",
    "str2 = input(\"Enter the second string: \")\n",
    "#Function Calling\n",
    "lcs = longest_common_subsequence(str1, str2)\n",
    "print(\"Longest Common Subsequence:\", lcs)\n"
   ]
  },
  {
   "cell_type": "code",
   "execution_count": null,
   "id": "7059ba26",
   "metadata": {},
   "outputs": [],
   "source": []
  }
 ],
 "metadata": {
  "kernelspec": {
   "display_name": "Python 3 (ipykernel)",
   "language": "python",
   "name": "python3"
  },
  "language_info": {
   "codemirror_mode": {
    "name": "ipython",
    "version": 3
   },
   "file_extension": ".py",
   "mimetype": "text/x-python",
   "name": "python",
   "nbconvert_exporter": "python",
   "pygments_lexer": "ipython3",
   "version": "3.9.13"
  }
 },
 "nbformat": 4,
 "nbformat_minor": 5
}
